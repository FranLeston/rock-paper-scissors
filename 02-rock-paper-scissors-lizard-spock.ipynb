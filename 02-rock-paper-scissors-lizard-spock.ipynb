{
 "cells": [
  {
   "cell_type": "markdown",
   "metadata": {},
   "source": [
    "# Rock, Paper, Scissors, Lizard & Spock\n",
    "![](images/rpsls.jpg)\n",
    "\n",
    "In this challenge, you need to improve the previous game by adding two new options. To know more about the rules of the improved version of rock, paper, scissors, check this [link](http://www.samkass.com/theories/RPSSL.html). \n",
    "\n",
    "In addition, you will also need to improve how the game interacts with the player: the number of rounds to play, which must be an odd number, will be requested to the user until a valid number is entered. Define a new function to make that request.\n",
    "\n",
    "**Hint**: Try to reuse the code that you already coded in the previous challenge. If your code is efficient, this bonus will only consist of simple modifications to the original game."
   ]
  },
  {
   "cell_type": "code",
   "execution_count": null,
   "metadata": {},
   "outputs": [
    {
     "name": "stdout",
     "output_type": "stream",
     "text": [
      "IronHack Rock Paper Scissors Lizard Spock: \n",
      "\n"
     ]
    }
   ],
   "source": [
    "#El codigo funciona bien pero tengo dudas sobre variables dentro y fuera de las funciones.\n",
    "#A veces calculos que hago dentro de funciones no actualizan la variable fuera de la funcion. \n",
    "#Incluso si se las paso como argumentos de la funcion. \n",
    "# Quise intentar hacer el calculo de quien gana sin tantos IF's..para ello utilize una matriz con todos los resultados posibles\n",
    "\n",
    "\n",
    "import random\n",
    "\n",
    "gestures = [\"rock\", \"paper\", \"scissors\", \"lizard\", \"spock\"]\n",
    "cpu_score = 0\n",
    "player_score = 0\n",
    "choice_dictionary = {\"rock\": 0, \"paper\": 1,\n",
    "                     \"scissors\": 2, \"lizard\": 3, \"spock\": 4}\n",
    "\n",
    "result_matrix = [[0, 1, 2, 2, 1],\n",
    "                 [2, 0, 1, 1, 2],\n",
    "                 [2, 1, 0, 2, 1],\n",
    "                 [1, 2, 1, 0, 2],\n",
    "                 [2, 1, 2, 1, 0]]\n",
    "\n",
    "\n",
    "def how_many_rounds():\n",
    "    while True:\n",
    "        try:\n",
    "            how_many_rounds_input = int(\n",
    "                input(\"How many rounds to win the game.  Please enter an odd number: \"))\n",
    "            if (how_many_rounds_input % 2 != 0):\n",
    "                return how_many_rounds_input\n",
    "        except:\n",
    "            print(\"Please enter only numbers! \\n\")\n",
    "\n",
    "\n",
    "def cpu_throw(gestures):\n",
    "    computer_choice_index = choice_dictionary.get(random.choice(gestures))\n",
    "    return computer_choice_index\n",
    "\n",
    "\n",
    "def player_throw():\n",
    "    while True:\n",
    "        choice_input = input(\n",
    "            \"Please type your choice: 'rock', 'paper','scissors', 'lizard', 'spock' \\n\")\n",
    "        player_choice_index = choice_dictionary.get(choice_input, 5)\n",
    "        break\n",
    "    return player_choice_index\n",
    "\n",
    "\n",
    "def calculate_round(player_play, cpu_play):\n",
    "    result_index = result_matrix[player_play][cpu_play]\n",
    "    return result_index\n",
    "\n",
    "\n",
    "def game_round():\n",
    "    print(f\"Current Score is: You: {player_score} - {cpu_score} \\n\")\n",
    "    player_play = player_throw()\n",
    "    cpu_play = cpu_throw(gestures)\n",
    "    print(f\"Computer plays {gestures[cpu_play]}\")\n",
    "    winner = calculate_round(player_play, cpu_play)\n",
    "    message_list = [\"That ended in a TIE\", \"Sorry, you lost!\", \"You WIN!!!!\"]\n",
    "    print(message_list[winner])\n",
    "    return winner\n",
    "\n",
    "#This is Main:\n",
    "print(\"IronHack Rock Paper Scissors Lizard Spock: \\n\")\n",
    "rounds_to_win = how_many_rounds()\n",
    "print(f\"First to win {rounds_to_win} rounds wins. Good Luck! \\n\")\n",
    "\n",
    "while player_score != rounds_to_win or cpu_score != rounds_to_win:\n",
    "    result = game_round()\n",
    "    if result == 1:\n",
    "        cpu_score += 1\n",
    "    if result == 2:\n",
    "        player_score += 1\n",
    "    if player_score == rounds_to_win:\n",
    "        print(f\"Current Score is: You: {player_score} - {cpu_score} \\n\")\n",
    "        print(\n",
    "            f\"YOU HAVE WON ALL {rounds_to_win} ROUNDS....you are the CHAMPION!\")\n",
    "        break\n",
    "    if cpu_score == rounds_to_win:\n",
    "        print(f\"Current Score is: You: {player_score} - {cpu_score} \\n\")\n",
    "\n",
    "        print(\n",
    "            f\"Sorry the computer was first to win {rounds_to_win} rounds..try again\")\n",
    "        break\n"
   ]
  },
  {
   "cell_type": "code",
   "execution_count": null,
   "metadata": {},
   "outputs": [],
   "source": []
  }
 ],
 "metadata": {
  "kernelspec": {
   "display_name": "Python 3",
   "language": "python",
   "name": "python3"
  },
  "language_info": {
   "codemirror_mode": {
    "name": "ipython",
    "version": 3
   },
   "file_extension": ".py",
   "mimetype": "text/x-python",
   "name": "python",
   "nbconvert_exporter": "python",
   "pygments_lexer": "ipython3",
   "version": "3.8.5"
  },
  "toc": {
   "base_numbering": 1,
   "nav_menu": {},
   "number_sections": true,
   "sideBar": true,
   "skip_h1_title": false,
   "title_cell": "Table of Contents",
   "title_sidebar": "Contents",
   "toc_cell": false,
   "toc_position": {},
   "toc_section_display": true,
   "toc_window_display": false
  }
 },
 "nbformat": 4,
 "nbformat_minor": 5
}
